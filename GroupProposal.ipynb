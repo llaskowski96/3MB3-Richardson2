{
 "cells": [
  {
   "cell_type": "markdown",
   "metadata": {},
   "source": [
    "# Lukasz Laskowski (001411582) Math 3MB3 Proposal"
   ]
  },
  {
   "cell_type": "markdown",
   "metadata": {},
   "source": [
    "## Question"
   ]
  },
  {
   "cell_type": "markdown",
   "metadata": {},
   "source": [
    "An arms race is a \"competitive acquisition of military capability (arms) between two or more countries\" (Perlo-Freeman, 2017). Throughout history, arms races have occurred among nations that do not necessarily have aggressive intentions, but will not stand idly awaiting an attack. When two countries are in an arms race, they have what Mooney and Swift refer to as \"mutual fear\" governing their spending decisions - an increase or decrease in one country's spending will influence the others respectively. In addition, a country's spending is limited by its budget and welfare of its economy and any grievances or good will towards the country it is engaged in an arms race with. The Richardson Arms Race Model, the model to be analyzed, incorporates all of these factors to make a prediction on how a country's military spending will change over time during an arms race."
   ]
  },
  {
   "cell_type": "markdown",
   "metadata": {},
   "source": [
    "## Model Construction"
   ]
  },
  {
   "cell_type": "markdown",
   "metadata": {},
   "source": [
    "### Variables"
   ]
  },
  {
   "cell_type": "markdown",
   "metadata": {},
   "source": [
    "Suppose Country X and Country Y are in an arms race. Let $x(t)$ represent the cumulative military expenditure (in units of currency) of Country X at some time $t$ and let $y(t)$ represent the military expenditures (also in units of currency) of Country Y at some time $t$. Majority of analysis will be done on a two-country system. In the analysis of three country systems, $z(t)$ will be used to represent the military expenditure of Country Z at time $t$."
   ]
  },
  {
   "cell_type": "markdown",
   "metadata": {},
   "source": [
    "### Assumptions and Parameters"
   ]
  },
  {
   "cell_type": "markdown",
   "metadata": {},
   "source": [
    "A continuous-time model is assumed since government spending is constant and dynamic, especially during an arms race. It is assumed that no country in this system wants conflict; the purpose of purchasing arms is strictly for national defense. Three additional assumptions are made that decide the form of this model."
   ]
  },
  {
   "cell_type": "markdown",
   "metadata": {},
   "source": [
    "Firstly, we assume an underlying mutual fear. Each country will adjust its military spending rate in response to the other's. Secondly, it is assumed that overspending for military purposes will impact the economy of that country negatively, forcing a reduction in spending rate. Therefore, when designing the model, the rate of change of Country X's military spending over time, $\\frac{dx}{dt}$, is positively correlated with Country Y's military spending and negatively correlated with its own (and vice-versa for Country Y's spending rate)."
   ]
  },
  {
   "cell_type": "markdown",
   "metadata": {},
   "source": [
    "   Lastly, a weight factor ($r$ for Country X and $s$ for Country Y) representing grievance or good will towards the country in competition with is incorporated. If this factor is positive, it indicates a grievance and predicts higher rates of expenditure increase over time. If negative, it predicts good will towards the other country and therefore lower rates of expenditure over time. By definition, there is no constraint on $r$ and $s$. However, consider the following, if $r$ and/or $s$ approach $+\\infty$, the model represents excessive grievance most likely resulting in war which is outside the scope of this model. In the opposite case, if $r$ and $s$ approach $-\\infty$, then the model will represent a very good relationship between two nations which would realistically not result in an arms race."
   ]
  },
  {
   "cell_type": "markdown",
   "metadata": {},
   "source": [
    "### Model Differential Equations in Continuous Time"
   ]
  },
  {
   "cell_type": "markdown",
   "metadata": {},
   "source": [
    "The above assumptions lead to this system of first-order differential equations:\n",
    "$$$$\n",
    "$$\n",
    "\\frac{dx(t)}{dt} = ay(t) - mx(t) + r \\qquad a, m, x(t) > 0\n",
    "$$\n",
    "$$$$\n",
    "$$\n",
    "\\frac{dy(t)}{dt} = bx(t) - ny(t) + s \\qquad b, n, y(t) >0\n",
    "$$\n",
    "\n",
    "The assumption is made that all parameters are real numbers. Here, $a$, $b$, $m$, and $n$ are constants of unit [time$^{-1}$]. $a$ and $b$ are the growth rate of military expenditure as a result of mutual fear of Country X towards Country Y and Country Y towards Country X respectively. $m$ and $n$ are the decay rates of military expenditure as a result of previous spending on arms for Country X and Country Y respectively. $r$ and $s$ are weight factors of units [currency $ \\cdot $ time$^{-1}$] representing grievance or good will between Countries X and Y. $r$ represents Country X's opinion towards Country Y and $s$ represents Country Y's opinion towards Country X. Note $r$ and $s$ are not necessarily equal."
   ]
  },
  {
   "cell_type": "markdown",
   "metadata": {},
   "source": [
    "In the case of a three-country system, the following equations will be used:\n",
    "$$$$\n",
    "$$\n",
    "\\frac{dx(t)}{dt} = a_xy(t) +c_xz(t) - mx(t) + r_y + r_z \\qquad a_x, c_x, m, x(t) \\ge 0\n",
    "$$\n",
    "$$$$\n",
    "$$\n",
    "\\frac{dy(t)}{dt} = b_yx(t) + c_yz(t) - ny(t) + s_x + s_z \\qquad b_y, c_y, n, y(t) \\ge0\n",
    "$$\n",
    "$$$$\n",
    "$$\n",
    "\\frac{dz(t)}{dt} = a_z y(t) + b_z x(t) - lz(t) + q_x + q_y \\qquad a_z, b_z, l, z(t) \\ge0\n",
    "$$\n",
    "$$$$\n",
    "Here, $c$ is an analogous factor to $a$ and $b$ above, $l$ is analogous to $m$ and $n$, and $q$ is analogous to $r$ and $s$. The subscripts indicate the country that the parameter concerns itself with. For example, all \"$a$\" parameters are the proportionality constant multiplied by $y(t)$; $a_z$ is the constant for the effect of $y(t)$ on $z$."
   ]
  },
  {
   "cell_type": "markdown",
   "metadata": {},
   "source": [
    "## Proposed Analysis "
   ]
  },
  {
   "cell_type": "markdown",
   "metadata": {},
   "source": [
    "Mooney and Swift's as well as Dr. Bolker's analytical suggestions will be followed for the most part. A solution to (just) the mutual-fear model will be determined and presented to show why it is unrealistic for long-term predictions. This will be done analytically. For the full Richardson model, phase plane analysis will be used to find equilibria. The effects of various grievances and good will values on the equilibria and stability of the system will be investigated while these solutions are found. General solutions to the differential equations system will be determined through numerical methods with the use of several initial conditions from the regions formed by the nullclines. When these solutions have been determined, cases where $r$ and $s$ have a stochastic nature and one where it has an oscillatory nature will be investigated. This will be with the hope of modelling the dynamics of a relationship between two nations. After the characteristics of a two-country system have been investigated sufficiently, a case with 3 mutually fearful countries and a case with 2 allied countries who feel threatened by a 3rd that is not allied will be investigated in a similar manner to the previous case: analytical determination of equilibria and stability, numerical solutions to the ODE system, and observing the effects stochasticity will have on such a system."
   ]
  },
  {
   "cell_type": "markdown",
   "metadata": {},
   "source": [
    "## References"
   ]
  },
  {
   "cell_type": "markdown",
   "metadata": {},
   "source": [
    "Bolker. (2017, October 24). Project proposal example. Retrieved from Math 3MB3 Course Webpage: https://bbolker.github.io/math3mb/projects/project_example.pdf\n",
    "\n",
    "Mooney, D. D., & Swift, R. J. (1999). A Course in Mathematical Modeling. Western Kentucky University: The Mathematical Association of America.\n",
    "\n",
    "Perlo-Freeman, S. (2017, August 21). Arms Race. Retrieved from Encyclopædia Britannica: https://www.britannica.com/topic/arms-race"
   ]
  }
 ],
 "metadata": {
  "kernelspec": {
   "display_name": "Python 3",
   "language": "python",
   "name": "python3"
  },
  "language_info": {
   "codemirror_mode": {
    "name": "ipython",
    "version": 3
   },
   "file_extension": ".py",
   "mimetype": "text/x-python",
   "name": "python",
   "nbconvert_exporter": "python",
   "pygments_lexer": "ipython3",
   "version": "3.6.1"
  }
 },
 "nbformat": 4,
 "nbformat_minor": 2
}
