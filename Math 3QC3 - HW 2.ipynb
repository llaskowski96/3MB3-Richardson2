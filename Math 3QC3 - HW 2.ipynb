{
 "cells": [
  {
   "cell_type": "markdown",
   "metadata": {},
   "source": [
    "# Lukasz Laskowski Homework 2"
   ]
  },
  {
   "cell_type": "markdown",
   "metadata": {},
   "source": [
    "## Question 1"
   ]
  },
  {
   "cell_type": "markdown",
   "metadata": {},
   "source": [
    "Suppose you have an arbitrary square matrix $T$ of dimension $n$. Writing them in a tensor format we get:\n",
    "\n",
    "$$\n",
    "T = \\left( \\begin{array}{ccc}\n",
    "[B_{1}] \\\\ \\vdots\n",
    "\\\\ [B_{n}]\\end{array}\n",
    "\\right)\n",
    "$$\n",
    "\n",
    "Here, $[B_i]$ is a row vector from the matrix:\n",
    "\n",
    "$$\n",
    "[B_i] = \\left( \\begin{array}{ccc}\n",
    "T_{i1}& \\dotsi & T_{in} \\end{array}\n",
    "\\right)\n",
    "$$\n",
    "\n",
    "So,  since the conjugate converts the row vectors into column vectors, $T^*$ can be written as:\n",
    "\n",
    "$$\n",
    "T^* = \\left( \\begin{array}{ccc}\n",
    "[B_{1}]^*&\\dotsi&[B_{n}]^*\\end{array}\n",
    "\\right)\n",
    "$$\n",
    "\n",
    "Set, $TT^* \\equiv A$"
   ]
  },
  {
   "cell_type": "markdown",
   "metadata": {},
   "source": [
    "$$\n",
    "A_{ij} = [B_i] \\cdot [B_j]^*\n",
    "$$\n",
    "\n",
    "For $A$ to be Hermitian, it must be proved that $A^* = A$:\n",
    "\n",
    "$$\n",
    "A_{ij}^* = ([B_j] \\cdot [B_i]^*)^* = [B_i] \\cdot [B_j]^*\n",
    "$$\n",
    "\n",
    "So $A^*$, in fact, does equal $A$, proving that $TT^*$ is a Hermitian Matrix.\n",
    "\n",
    "An identical process can be applied to prove the same thing for $T^*T$.\n",
    "\n",
    "QED"
   ]
  },
  {
   "cell_type": "markdown",
   "metadata": {},
   "source": [
    "## Question 2"
   ]
  },
  {
   "cell_type": "markdown",
   "metadata": {},
   "source": [
    "$$\n",
    "\\mid 0\\rangle = \\left( \\begin{array}{ccc}\n",
    "1 \\\\ 0\\end{array}\n",
    "\\right) \\qquad \\mid 1\\rangle = \\left( \\begin{array}{ccc}\n",
    "0 \\\\ 1\\end{array}\n",
    "\\right) \n",
    "$$\n",
    "\n",
    "$$\n",
    "\\mid 00\\rangle = \\left( \\begin{array}{ccc}\n",
    "1 & 0 \\\\ 0 & 0\\end{array}\n",
    "\\right) \\qquad \\mid 01\\rangle = \\left( \\begin{array}{ccc}\n",
    "0 & 1 \\\\ 0 & 0\\end{array}\n",
    "\\right) \\qquad \\mid 10\\rangle = \\left( \\begin{array}{ccc}\n",
    "0 & 0 \\\\ 1 & 0\\end{array}\n",
    "\\right)\\qquad \\mid 11\\rangle = \\left( \\begin{array}{ccc}\n",
    "0 & 0 \\\\ 0 & 1\\end{array}\n",
    "\\right)\n",
    "$$\n",
    "\n",
    "So,"
   ]
  },
  {
   "cell_type": "markdown",
   "metadata": {},
   "source": [
    "$$\n",
    "M = \\left( \\begin{array}{ccc}\n",
    "\\frac{1 + \\sqrt{6}}{2\\sqrt{6}} & \\frac{1 - \\sqrt{6}}{2\\sqrt{6}} \\\\ \\frac{\\sqrt{2} - \\sqrt{3}}{2\\sqrt{6}} & \\frac{\\sqrt{2} + \\sqrt{3}}{2\\sqrt{6}}\\end{array}\\right) = \\frac{1}{2\\sqrt{6}}\\left( \\begin{array}{ccc}\n",
    "1 + \\sqrt{6} & 1 - \\sqrt{6} \\\\ \\sqrt{2} - \\sqrt{3} & \\sqrt{2} + \\sqrt{3}\\end{array}\\right)\n",
    "$$"
   ]
  },
  {
   "cell_type": "markdown",
   "metadata": {},
   "source": [
    "## Question 3"
   ]
  },
  {
   "cell_type": "markdown",
   "metadata": {},
   "source": [
    "Diagonalize $M^*M$\n",
    "\n",
    "$$\n",
    "M^*M = \\left( \\begin{array}{ccc}\n",
    "\\frac{1 + \\sqrt{6}}{2\\sqrt{6}} & \\frac{\\sqrt{2} - \\sqrt{3}}{2\\sqrt{6}} \\\\ \\frac{1 - \\sqrt{6}}{2\\sqrt{6}} & \\frac{\\sqrt{2} + \\sqrt{3}}{2\\sqrt{6}} \\end{array}\\right) \\left( \\begin{array}{ccc}\n",
    "\\frac{1 + \\sqrt{6}}{2\\sqrt{6}} & \\frac{1 - \\sqrt{6}}{2\\sqrt{6}} \\\\ \\frac{\\sqrt{2} - \\sqrt{3}}{2\\sqrt{6}} & \\frac{\\sqrt{2} + \\sqrt{3}}{2\\sqrt{6}}\\end{array}\\right)\n",
    "$$"
   ]
  },
  {
   "cell_type": "markdown",
   "metadata": {},
   "source": [
    "$$\n",
    "= \\frac{1}{24}\\left( \\begin{array}{ccc}\n",
    "(1 + \\sqrt{6})^2 + (\\sqrt{2} - \\sqrt{3})^2 & (1 + \\sqrt{6})(1 - \\sqrt{6}) + (\\sqrt{2} - \\sqrt{3})(\\sqrt{2} + \\sqrt{3}) \\\\ (1 + \\sqrt{6})(1 - \\sqrt{6}) + (\\sqrt{2} - \\sqrt{3})(\\sqrt{2} + \\sqrt{3}) &(1 - \\sqrt{6})^2 + (\\sqrt{2} + \\sqrt{3})^2\\end{array}\\right)\n",
    "$$"
   ]
  },
  {
   "cell_type": "markdown",
   "metadata": {},
   "source": [
    "$$\n",
    "= \\frac{1}{24}\\left( \\begin{array}{ccc}12 & -6 \\\\ -6 & 12 \\end{array}\\right) = \\frac{1}{4}\\left( \\begin{array}{ccc}2 & -1 \\\\ -1 & 2 \\end{array}\\right)\n",
    "$$"
   ]
  },
  {
   "cell_type": "markdown",
   "metadata": {},
   "source": [
    "Find the eigenvalues and eigenvectors to determine Matrices $D$ and $V$"
   ]
  },
  {
   "cell_type": "markdown",
   "metadata": {},
   "source": [
    "$$\n",
    "det\\left( \\begin{array}{ccc}0.5-\\lambda & -0.25 \\\\ -0.25 & 0.5-\\lambda \\end{array}\\right) = 0\n",
    "$$\n",
    "\n",
    "$$\n",
    "0 = (\\frac{1}{2} - \\lambda)^2 - \\frac{1}{16} = \\lambda^2 - \\lambda + \\frac{3}{16}\n",
    "$$\n",
    "\n",
    "Solving the quadratic,\n",
    "\n",
    "$$\n",
    "\\lambda = 0.75 \\space and \\space 0.25\n",
    "$$"
   ]
  },
  {
   "cell_type": "markdown",
   "metadata": {},
   "source": [
    "Now to find the eigenvectors, start with $\\lambda = 0.75$:"
   ]
  },
  {
   "cell_type": "markdown",
   "metadata": {},
   "source": [
    "$$\n",
    "\\frac{1}{4}\\left( \\begin{array}{ccc}2 & -1 \\\\ -1 & 2 \\end{array}\\right)\\left( \\begin{array}{ccc} X_1 \\\\ X_2 \\end{array}\\right) = \\frac{3}{4} \\left( \\begin{array}{ccc} X_1 \\\\ X_2 \\end{array}\\right)\n",
    "$$"
   ]
  },
  {
   "cell_type": "markdown",
   "metadata": {},
   "source": [
    "$$\n",
    "2X_1 - X_2 = 3X_1 \\qquad -X_1 + 2X_2 = 3X_2\n",
    "$$\n",
    "\n",
    "Use eq. 1:\n",
    "$$\n",
    "X_1 = - X_2\n",
    "$$\n",
    "\n",
    "Eigenvector is:\n",
    "$$\n",
    "\\frac{1}{\\sqrt{2}} \\left( \\begin{array}{ccc} 1 \\\\ -1 \\end{array}\\right)\n",
    "$$"
   ]
  },
  {
   "cell_type": "markdown",
   "metadata": {},
   "source": [
    "Similarily for $\\lambda = 0.25$:"
   ]
  },
  {
   "cell_type": "markdown",
   "metadata": {},
   "source": [
    "$$\n",
    "\\frac{1}{4}\\left( \\begin{array}{ccc}2 & -1 \\\\ -1 & 2 \\end{array}\\right)\\left( \\begin{array}{ccc} X_1 \\\\ X_2 \\end{array}\\right) = \\frac{1}{4} \\left( \\begin{array}{ccc} X_1 \\\\ X_2 \\end{array}\\right)\n",
    "$$"
   ]
  },
  {
   "cell_type": "markdown",
   "metadata": {},
   "source": [
    "$$\n",
    "2X_1 - X_2 = X_1 \\qquad -X_1 + 2X_2 = X_2\n",
    "$$"
   ]
  },
  {
   "cell_type": "markdown",
   "metadata": {},
   "source": [
    "Use eq. 1:\n",
    "$$\n",
    "X_1 = X_2\n",
    "$$\n",
    "\n",
    "Eigenvector is:\n",
    "$$\n",
    "\\frac{1}{\\sqrt{2}} \\left( \\begin{array}{ccc} 1 \\\\ 1 \\end{array}\\right)\n",
    "$$"
   ]
  },
  {
   "cell_type": "markdown",
   "metadata": {},
   "source": [
    "From this,\n",
    "\n",
    "$$\n",
    "D = \\frac{1}{4}\\left( \\begin{array}{ccc}3 & 0 \\\\ 0 & 1 \\end{array}\\right)\n",
    "$$\n",
    "\n",
    "$$\n",
    "V = \\frac{1}{\\sqrt{2}}\\left( \\begin{array}{ccc}1 & 1 \\\\ -1 & 1 \\end{array}\\right)\n",
    "$$\n",
    "\n",
    "The code below computes V's inverse and we can see, from this, that V is unitary because its complex conjugate is equal to its inverse."
   ]
  },
  {
   "cell_type": "code",
   "execution_count": 2,
   "metadata": {},
   "outputs": [
    {
     "data": {
      "text/plain": [
       "array([[ 0.70710678, -0.70710678],\n",
       "       [ 0.70710678,  0.70710678]])"
      ]
     },
     "execution_count": 2,
     "metadata": {},
     "output_type": "execute_result"
    }
   ],
   "source": [
    "import numpy as np\n",
    "V = np.array(((0.70710678, 0.70710678),\n",
    " (-0.70710678, 0.70710678)))\n",
    "np.linalg.inv(V)"
   ]
  },
  {
   "cell_type": "markdown",
   "metadata": {},
   "source": [
    "## Question 4"
   ]
  },
  {
   "cell_type": "markdown",
   "metadata": {},
   "source": [
    "As a result of the properties of diagonal matrices:\n",
    "$$\n",
    "D^{-1/2} = \\left( \\begin{array}{ccc}\\frac{3}{4}^{-1/2} & 0 \\\\ 0 & \\frac{1}{4}^{-1/2} \\end{array}\\right) = \\left( \\begin{array}{ccc}\\frac{2}{\\sqrt{3}} & 0 \\\\ 0 & 2 \\end{array}\\right)\n",
    "$$"
   ]
  },
  {
   "cell_type": "markdown",
   "metadata": {},
   "source": [
    "$$\n",
    "U = \\frac{1}{4\\sqrt{3}}\\left( \\begin{array}{ccc}1 + \\sqrt{6} & 1 - \\sqrt{6} \\\\ \\sqrt{2} - \\sqrt{3} & \\sqrt{2} + \\sqrt{3}\\end{array}\\right)\\left( \\begin{array}{ccc}1 & 1 \\\\ -1 & 1 \\end{array}\\right)\\left( \\begin{array}{ccc}\\frac{2}{\\sqrt{3}} & 0 \\\\ 0 & 2 \\end{array}\\right)\n",
    "$$"
   ]
  },
  {
   "cell_type": "markdown",
   "metadata": {
    "collapsed": true
   },
   "source": [
    "$$\n",
    "U = \\frac{1}{2\\sqrt{3}}\\left( \\begin{array}{ccc}\\sqrt{6} & 1 \\\\ -\\sqrt{3} & \\sqrt{2}\\end{array}\\right)\\left( \\begin{array}{ccc}\\frac{2}{\\sqrt{3}} & 0 \\\\ 0 & 2 \\end{array}\\right)\n",
    "$$"
   ]
  },
  {
   "cell_type": "markdown",
   "metadata": {},
   "source": [
    "$$\n",
    "U = \\frac{1}{2\\sqrt{3}}\\left( \\begin{array}{ccc}2\\sqrt{2} & 2 \\\\ -2 & 2\\sqrt{2}\\end{array}\\right)\n",
    "$$"
   ]
  },
  {
   "cell_type": "markdown",
   "metadata": {},
   "source": [
    "$$\n",
    "U = \\frac{1}{\\sqrt{3}}\\left( \\begin{array}{ccc}\\sqrt{2} & 1 \\\\ -1 & \\sqrt{2}\\end{array}\\right)\n",
    "$$"
   ]
  },
  {
   "cell_type": "markdown",
   "metadata": {},
   "source": [
    "$$\n",
    "D^{1/2} = \\left( \\begin{array}{ccc}\\frac{3}{4}^{1/2} & 0 \\\\ 0 & \\frac{1}{4}^{1/2} \\end{array}\\right) = \\left( \\begin{array}{ccc}\\frac{\\sqrt{3}}{2} & 0 \\\\ 0 & \\frac{1}{2} \\end{array}\\right)\n",
    "$$"
   ]
  },
  {
   "cell_type": "markdown",
   "metadata": {},
   "source": [
    "$$\n",
    "V^* = \\frac{1}{\\sqrt{2}}\\left( \\begin{array}{ccc}1 & -1 \\\\ 1 & 1 \\end{array}\\right)\n",
    "$$"
   ]
  },
  {
   "cell_type": "markdown",
   "metadata": {},
   "source": [
    "$$\n",
    "M = \\frac{1}{\\sqrt{6}}\\left( \\begin{array}{ccc}\\sqrt{2} & 1 \\\\ -1 & \\sqrt{2}\\end{array}\\right)\\left( \\begin{array}{ccc}\\frac{\\sqrt{3}}{2} & 0 \\\\ 0 & \\frac{1}{2} \\end{array}\\right)\\left( \\begin{array}{ccc}1 & -1 \\\\ 1 & 1 \\end{array}\\right)\n",
    "$$"
   ]
  },
  {
   "cell_type": "markdown",
   "metadata": {},
   "source": [
    "## Question 5 - In Progress"
   ]
  },
  {
   "cell_type": "code",
   "execution_count": null,
   "metadata": {
    "collapsed": true
   },
   "outputs": [],
   "source": []
  }
 ],
 "metadata": {
  "kernelspec": {
   "display_name": "Python 3",
   "language": "python",
   "name": "python3"
  },
  "language_info": {
   "codemirror_mode": {
    "name": "ipython",
    "version": 3
   },
   "file_extension": ".py",
   "mimetype": "text/x-python",
   "name": "python",
   "nbconvert_exporter": "python",
   "pygments_lexer": "ipython3",
   "version": "3.6.1"
  }
 },
 "nbformat": 4,
 "nbformat_minor": 2
}
